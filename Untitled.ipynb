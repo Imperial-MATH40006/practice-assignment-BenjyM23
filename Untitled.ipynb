{
 "cells": [
  {
   "cell_type": "markdown",
   "id": "efe87f0b",
   "metadata": {},
   "source": [
    "# An Introduction to Markdown"
   ]
  },
  {
   "cell_type": "markdown",
   "id": "8e1a3bd9",
   "metadata": {},
   "source": [
    "## Section 1: Simple Calculations\n",
    "This is a text cell, introducing the calculation\n",
    "'''python\n",
    "2 + 2\n",
    "'''"
   ]
  },
  {
   "cell_type": "code",
   "execution_count": 2,
   "id": "f8a1361e",
   "metadata": {},
   "outputs": [
    {
     "data": {
      "text/plain": [
       "4"
      ]
     },
     "execution_count": 2,
     "metadata": {},
     "output_type": "execute_result"
    }
   ],
   "source": [
    "2 + 2"
   ]
  },
  {
   "cell_type": "markdown",
   "id": "948a8884",
   "metadata": {},
   "source": [
    "This is another text cell, introducing another calculation, $3^7$,\n",
    "which we format as\n",
    "'''python\n",
    "3 ** 7\n",
    "'''"
   ]
  },
  {
   "cell_type": "markdown",
   "id": "f24cf46c",
   "metadata": {},
   "source": [
    "# An Introduction to Markdown"
   ]
  },
  {
   "cell_type": "markdown",
   "id": "fe3c0551",
   "metadata": {},
   "source": [
    "## Section 1: Simple Calculations\n",
    "This is a text cell, introducing the calculation\n",
    "'''python\n",
    "2 + 2\n",
    "'''"
   ]
  },
  {
   "cell_type": "code",
   "execution_count": 2,
   "id": "aee781ff",
   "metadata": {},
   "outputs": [
    {
     "data": {
      "text/plain": [
       "4"
      ]
     },
     "execution_count": 2,
     "metadata": {},
     "output_type": "execute_result"
    }
   ],
   "source": [
    "2 + 2"
   ]
  },
  {
   "cell_type": "markdown",
   "id": "6770aad6",
   "metadata": {},
   "source": [
    "This is another text cell, introducing another calculation, $3^7$,\n",
    "which we format as\n",
    "'''python\n",
    "3 ** 7\n",
    "'''"
   ]
  },
  {
   "cell_type": "markdown",
   "id": "cb656140",
   "metadata": {},
   "source": [
    "# An Introduction to Markdown"
   ]
  },
  {
   "cell_type": "markdown",
   "id": "5eef5968",
   "metadata": {},
   "source": [
    "## Section 1: Simple Calculations\n",
    "This is a text cell, introducing the calculation\n",
    "'''python\n",
    "2 + 2\n",
    "'''"
   ]
  },
  {
   "cell_type": "code",
   "execution_count": null,
   "id": "6c4ef020",
   "metadata": {},
   "outputs": [],
   "source": []
  }
 ],
 "metadata": {
  "kernelspec": {
   "display_name": "Python 3 (ipykernel)",
   "language": "python",
   "name": "python3"
  },
  "language_info": {
   "codemirror_mode": {
    "name": "ipython",
    "version": 3
   },
   "file_extension": ".py",
   "mimetype": "text/x-python",
   "name": "python",
   "nbconvert_exporter": "python",
   "pygments_lexer": "ipython3",
   "version": "3.11.5"
  }
 },
 "nbformat": 4,
 "nbformat_minor": 5
}
